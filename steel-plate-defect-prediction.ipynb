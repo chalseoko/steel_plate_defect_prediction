{
 "cells": [
  {
   "cell_type": "code",
   "execution_count": 1,
   "id": "f8a80cc7",
   "metadata": {
    "_cell_guid": "b1076dfc-b9ad-4769-8c92-a6c4dae69d19",
    "_uuid": "8f2839f25d086af736a60e9eeb907d3b93b6e0e5",
    "execution": {
     "iopub.execute_input": "2024-03-12T21:28:19.663644Z",
     "iopub.status.busy": "2024-03-12T21:28:19.663163Z",
     "iopub.status.idle": "2024-03-12T21:28:23.836128Z",
     "shell.execute_reply": "2024-03-12T21:28:23.834927Z"
    },
    "papermill": {
     "duration": 4.183292,
     "end_time": "2024-03-12T21:28:23.838974",
     "exception": false,
     "start_time": "2024-03-12T21:28:19.655682",
     "status": "completed"
    },
    "tags": []
   },
   "outputs": [],
   "source": [
    "import numpy as np\n",
    "import pandas as pd\n",
    "\n",
    "import seaborn as sns\n",
    "import matplotlib.pyplot as plt\n",
    "\n",
    "from sklearn.compose import make_column_transformer\n",
    "from sklearn.metrics import classification_report, confusion_matrix, roc_auc_score\n",
    "from sklearn.model_selection import train_test_split\n",
    "from sklearn.preprocessing import MinMaxScaler\n",
    "\n",
    "from xgboost import XGBClassifier\n",
    "\n",
    "import optuna\n",
    "optuna.logging.set_verbosity(optuna.logging.WARNING)"
   ]
  },
  {
   "cell_type": "code",
   "execution_count": 2,
   "id": "97dcf77c",
   "metadata": {
    "execution": {
     "iopub.execute_input": "2024-03-12T21:28:23.851600Z",
     "iopub.status.busy": "2024-03-12T21:28:23.850330Z",
     "iopub.status.idle": "2024-03-12T21:28:24.097285Z",
     "shell.execute_reply": "2024-03-12T21:28:24.096134Z"
    },
    "papermill": {
     "duration": 0.25656,
     "end_time": "2024-03-12T21:28:24.100685",
     "exception": false,
     "start_time": "2024-03-12T21:28:23.844125",
     "status": "completed"
    },
    "tags": []
   },
   "outputs": [
    {
     "name": "stdout",
     "output_type": "stream",
     "text": [
      "<class 'pandas.core.frame.DataFrame'>\n",
      "Index: 32033 entries, 0 to 32032\n",
      "Data columns (total 34 columns):\n",
      " #   Column                 Non-Null Count  Dtype  \n",
      "---  ------                 --------------  -----  \n",
      " 0   X_Minimum              32033 non-null  int64  \n",
      " 1   X_Maximum              32033 non-null  int64  \n",
      " 2   Y_Minimum              32033 non-null  int64  \n",
      " 3   Y_Maximum              32033 non-null  int64  \n",
      " 4   Pixels_Areas           32033 non-null  int64  \n",
      " 5   X_Perimeter            32033 non-null  int64  \n",
      " 6   Y_Perimeter            32033 non-null  int64  \n",
      " 7   Sum_of_Luminosity      32033 non-null  int64  \n",
      " 8   Minimum_of_Luminosity  32033 non-null  int64  \n",
      " 9   Maximum_of_Luminosity  32033 non-null  int64  \n",
      " 10  Length_of_Conveyer     32033 non-null  int64  \n",
      " 11  TypeOfSteel_A300       32033 non-null  int64  \n",
      " 12  TypeOfSteel_A400       32033 non-null  int64  \n",
      " 13  Steel_Plate_Thickness  32033 non-null  int64  \n",
      " 14  Edges_Index            32033 non-null  float64\n",
      " 15  Empty_Index            32033 non-null  float64\n",
      " 16  Square_Index           32033 non-null  float64\n",
      " 17  Outside_X_Index        32033 non-null  float64\n",
      " 18  Edges_X_Index          32033 non-null  float64\n",
      " 19  Edges_Y_Index          32033 non-null  float64\n",
      " 20  Outside_Global_Index   32033 non-null  float64\n",
      " 21  LogOfAreas             32033 non-null  float64\n",
      " 22  Log_X_Index            32033 non-null  float64\n",
      " 23  Log_Y_Index            32033 non-null  float64\n",
      " 24  Orientation_Index      32033 non-null  float64\n",
      " 25  Luminosity_Index       32033 non-null  float64\n",
      " 26  SigmoidOfAreas         32033 non-null  float64\n",
      " 27  Pastry                 19219 non-null  float64\n",
      " 28  Z_Scratch              19219 non-null  float64\n",
      " 29  K_Scatch               19219 non-null  float64\n",
      " 30  Stains                 19219 non-null  float64\n",
      " 31  Dirtiness              19219 non-null  float64\n",
      " 32  Bumps                  19219 non-null  float64\n",
      " 33  Other_Faults           19219 non-null  float64\n",
      "dtypes: float64(20), int64(14)\n",
      "memory usage: 8.6 MB\n"
     ]
    }
   ],
   "source": [
    "train_data = pd.read_csv('/kaggle/input/playground-series-s4e3/train.csv', index_col='id')\n",
    "test_data = pd.read_csv('/kaggle/input/playground-series-s4e3/test.csv', index_col='id')\n",
    "submission = pd.read_csv('/kaggle/input/playground-series-s4e3/sample_submission.csv', index_col='id')\n",
    "\n",
    "pd.concat([train_data, test_data]).info()"
   ]
  },
  {
   "cell_type": "markdown",
   "id": "506deb9c",
   "metadata": {
    "papermill": {
     "duration": 0.004452,
     "end_time": "2024-03-12T21:28:24.109949",
     "exception": false,
     "start_time": "2024-03-12T21:28:24.105497",
     "status": "completed"
    },
    "tags": []
   },
   "source": [
    "* Combining the datasets, we can see there are no null values across both the training and testing data. \n",
    "* Target values are binary (0/1), and below you can see that many of these features are unbalanced.\n",
    "* For some of the target values, we can observe there are no faults for certain steel plates. Plates with multiple faults will be placed into the 'Other_Faults' category and those without faults will be removed from the dataset.\n",
    "* All features appear to be numerical."
   ]
  },
  {
   "cell_type": "code",
   "execution_count": 3,
   "id": "831bc58c",
   "metadata": {
    "execution": {
     "iopub.execute_input": "2024-03-12T21:28:24.120985Z",
     "iopub.status.busy": "2024-03-12T21:28:24.120198Z",
     "iopub.status.idle": "2024-03-12T21:28:24.393073Z",
     "shell.execute_reply": "2024-03-12T21:28:24.391823Z"
    },
    "papermill": {
     "duration": 0.281042,
     "end_time": "2024-03-12T21:28:24.395475",
     "exception": false,
     "start_time": "2024-03-12T21:28:24.114433",
     "status": "completed"
    },
    "tags": []
   },
   "outputs": [
    {
     "data": {
      "image/png": "[encoded data removed]",
      "text/plain": [
       "<Figure size 640x480 with 1 Axes>"
      ]
     },
     "metadata": {},
     "output_type": "display_data"
    }
   ],
   "source": [
    "target_features = ['Pastry', 'Z_Scratch', 'K_Scatch', 'Stains', 'Dirtiness', 'Bumps', 'Other_Faults']\n",
    "target_data = train_data[target_features]\n",
    "\n",
    "fault_counts = np.unique(target_data.sum(axis=1), return_counts=True)\n",
    "ax = sns.barplot(x=fault_counts[0], y=fault_counts[1])\n",
    "ax.bar_label(ax.containers[0], fontsize=10)\n",
    "plt.title(\"Faults per Steel Plate\")\n",
    "plt.show()"
   ]
  },
  {
   "cell_type": "code",
   "execution_count": 4,
   "id": "e7afcfe9",
   "metadata": {
    "execution": {
     "iopub.execute_input": "2024-03-12T21:28:24.408128Z",
     "iopub.status.busy": "2024-03-12T21:28:24.407682Z",
     "iopub.status.idle": "2024-03-12T21:28:24.753180Z",
     "shell.execute_reply": "2024-03-12T21:28:24.751992Z"
    },
    "papermill": {
     "duration": 0.355051,
     "end_time": "2024-03-12T21:28:24.755735",
     "exception": false,
     "start_time": "2024-03-12T21:28:24.400684",
     "status": "completed"
    },
    "tags": []
   },
   "outputs": [
    {
     "data": {
      "image/png": "[encoded data removed]",
      "text/plain": [
       "<Figure size 640x480 with 1 Axes>"
      ]
     },
     "metadata": {},
     "output_type": "display_data"
    }
   ],
   "source": [
    "target = target_data@(np.arange(target_data.shape[1])+1)\n",
    "target[target_data.sum(axis=1)==2] = 3\n",
    "\n",
    "ax = sns.countplot(x=target)\n",
    "\n",
    "tick_labels = list(target_data.columns)\n",
    "tick_labels.insert(0, 'No_Faults')\n",
    "\n",
    "ax.set(xlabel='Feature', ylabel='Count', xticklabels=tick_labels)\n",
    "ax.tick_params(axis='x', rotation=45)\n",
    "plt.show()"
   ]
  },
  {
   "cell_type": "code",
   "execution_count": 5,
   "id": "37f5208f",
   "metadata": {
    "execution": {
     "iopub.execute_input": "2024-03-12T21:28:24.769420Z",
     "iopub.status.busy": "2024-03-12T21:28:24.768585Z",
     "iopub.status.idle": "2024-03-12T21:28:24.783342Z",
     "shell.execute_reply": "2024-03-12T21:28:24.782117Z"
    },
    "papermill": {
     "duration": 0.024668,
     "end_time": "2024-03-12T21:28:24.786157",
     "exception": false,
     "start_time": "2024-03-12T21:28:24.761489",
     "status": "completed"
    },
    "tags": []
   },
   "outputs": [],
   "source": [
    "train_data.drop(np.where(target_data.sum(axis=1) == 0)[0], inplace=True)"
   ]
  },
  {
   "cell_type": "code",
   "execution_count": 6,
   "id": "4ef55236",
   "metadata": {
    "_kg_hide-input": true,
    "execution": {
     "iopub.execute_input": "2024-03-12T21:28:24.799629Z",
     "iopub.status.busy": "2024-03-12T21:28:24.798843Z",
     "iopub.status.idle": "2024-03-12T21:28:24.804815Z",
     "shell.execute_reply": "2024-03-12T21:28:24.803829Z"
    },
    "papermill": {
     "duration": 0.015043,
     "end_time": "2024-03-12T21:28:24.806916",
     "exception": false,
     "start_time": "2024-03-12T21:28:24.791873",
     "status": "completed"
    },
    "tags": []
   },
   "outputs": [],
   "source": [
    "def add_new_features(df):\n",
    "    df['X_Range'] = df['X_Maximum'] - df['X_Minimum']\n",
    "    df['Y_Range'] = df['Y_Maximum'] - df['Y_Minimum']\n",
    "    \n",
    "    df['Range_of_Luminosity'] = df['Maximum_of_Luminosity'] - df['Minimum_of_Luminosity']\n",
    "\n",
    "    df['Total_Perimeter'] = df['X_Perimeter'] + df['Y_Perimeter']\n",
    "    df['Area_Perimeter_Ratio'] = df['Pixels_Areas'] / df['Total_Perimeter']\n",
    "    \n",
    "    return df"
   ]
  },
  {
   "cell_type": "code",
   "execution_count": 7,
   "id": "4102553c",
   "metadata": {
    "execution": {
     "iopub.execute_input": "2024-03-12T21:28:24.819957Z",
     "iopub.status.busy": "2024-03-12T21:28:24.819247Z",
     "iopub.status.idle": "2024-03-12T21:28:24.835316Z",
     "shell.execute_reply": "2024-03-12T21:28:24.834068Z"
    },
    "papermill": {
     "duration": 0.02541,
     "end_time": "2024-03-12T21:28:24.837931",
     "exception": false,
     "start_time": "2024-03-12T21:28:24.812521",
     "status": "completed"
    },
    "tags": []
   },
   "outputs": [
    {
     "name": "stdout",
     "output_type": "stream",
     "text": [
      "Train size:  (18401, 39)\n",
      "Test size:  (12814, 32)\n",
      "\n",
      "All Features: \n",
      " ['X_Minimum' 'X_Maximum' 'Y_Minimum' 'Y_Maximum' 'Pixels_Areas'\n",
      " 'X_Perimeter' 'Y_Perimeter' 'Sum_of_Luminosity' 'Minimum_of_Luminosity'\n",
      " 'Maximum_of_Luminosity' 'Length_of_Conveyer' 'TypeOfSteel_A300'\n",
      " 'TypeOfSteel_A400' 'Steel_Plate_Thickness' 'Edges_Index' 'Empty_Index'\n",
      " 'Square_Index' 'Outside_X_Index' 'Edges_X_Index' 'Edges_Y_Index'\n",
      " 'Outside_Global_Index' 'LogOfAreas' 'Log_X_Index' 'Log_Y_Index'\n",
      " 'Orientation_Index' 'Luminosity_Index' 'SigmoidOfAreas' 'Pastry'\n",
      " 'Z_Scratch' 'K_Scatch' 'Stains' 'Dirtiness' 'Bumps' 'Other_Faults'\n",
      " 'X_Range' 'Y_Range' 'Range_of_Luminosity' 'Total_Perimeter'\n",
      " 'Area_Perimeter_Ratio']\n"
     ]
    }
   ],
   "source": [
    "train_data = add_new_features(train_data)\n",
    "test_data = add_new_features(test_data)\n",
    "\n",
    "print('Train size: ', train_data.shape)\n",
    "print('Test size: ', test_data.shape)\n",
    "\n",
    "print('\\nAll Features: \\n', train_data.columns.values)"
   ]
  },
  {
   "cell_type": "code",
   "execution_count": 8,
   "id": "996557bd",
   "metadata": {
    "execution": {
     "iopub.execute_input": "2024-03-12T21:28:24.851622Z",
     "iopub.status.busy": "2024-03-12T21:28:24.851226Z",
     "iopub.status.idle": "2024-03-12T21:28:24.859569Z",
     "shell.execute_reply": "2024-03-12T21:28:24.858621Z"
    },
    "papermill": {
     "duration": 0.017891,
     "end_time": "2024-03-12T21:28:24.861719",
     "exception": false,
     "start_time": "2024-03-12T21:28:24.843828",
     "status": "completed"
    },
    "tags": []
   },
   "outputs": [],
   "source": [
    "def fit_transform_data(use_train_data=True):\n",
    "    data, X, y = train_data, None, None\n",
    "    non_scaled_cols = ['TypeOfSteel_A300', 'TypeOfSteel_A400','LogOfAreas','Log_X_Index',\n",
    "                       'Log_Y_Index','Orientation_Index','Luminosity_Index','SigmoidOfAreas'] + \\\n",
    "                      ['X_Range', 'Y_Range', 'Range_of_Luminosity', 'Total_Perimeter', 'Area_Perimeter_Ratio']\n",
    "\n",
    "    if use_train_data:\n",
    "        non_scaled_cols += target_features\n",
    "    else:\n",
    "        data = test_data\n",
    "\n",
    "    scaled_cols = train_data.columns.difference(non_scaled_cols)\n",
    "    transformer = make_column_transformer(\n",
    "        (MinMaxScaler(), scaled_cols), remainder='passthrough', sparse_threshold=0)\n",
    "    transformed_data = transformer.fit_transform(data)\n",
    "    transformed_data = pd.DataFrame(transformed_data, columns=data.columns.values, index=data.index)\n",
    "    \n",
    "    if use_train_data: \n",
    "        X = transformed_data.drop(columns=target_features)\n",
    "        y = transformed_data[target_features].idxmax(1).map({'Pastry':0, 'Z_Scratch':1,'K_Scatch':2,'Stains':3,\n",
    "                                                 'Dirtiness':4,'Bumps':5,'Other_Faults':6})\n",
    "        return X,y\n",
    "    else: \n",
    "        return transformed_data, None"
   ]
  },
  {
   "cell_type": "code",
   "execution_count": 9,
   "id": "962c10f8",
   "metadata": {
    "_kg_hide-input": true,
    "execution": {
     "iopub.execute_input": "2024-03-12T21:28:24.874559Z",
     "iopub.status.busy": "2024-03-12T21:28:24.874156Z",
     "iopub.status.idle": "2024-03-12T21:28:24.880060Z",
     "shell.execute_reply": "2024-03-12T21:28:24.879317Z"
    },
    "papermill": {
     "duration": 0.014612,
     "end_time": "2024-03-12T21:28:24.882023",
     "exception": false,
     "start_time": "2024-03-12T21:28:24.867411",
     "status": "completed"
    },
    "tags": []
   },
   "outputs": [],
   "source": [
    "def get_fitted_xgboost(data, params = {}):\n",
    "    X, y = fit_transform_data()\n",
    "    X_train, X_test, y_train, y_test = train_test_split(X, y, test_size=0.25)\n",
    "    \n",
    "    clf = XGBClassifier(**params)\n",
    "    clf.fit(X_train, y_train)\n",
    "    return clf, X_test, y_test\n",
    "\n",
    "def get_predictions(clf, X_test, is_proba=True):\n",
    "    if is_proba:\n",
    "        predictions = clf.predict_proba(X_test)\n",
    "        return pd.DataFrame(predictions, columns=target_features, index=X_test.index)\n",
    "    else:\n",
    "        return clf.predict(X_test)"
   ]
  },
  {
   "cell_type": "code",
   "execution_count": 10,
   "id": "7f8c18b7",
   "metadata": {
    "execution": {
     "iopub.execute_input": "2024-03-12T21:28:24.895043Z",
     "iopub.status.busy": "2024-03-12T21:28:24.894411Z",
     "iopub.status.idle": "2024-03-12T21:28:28.407336Z",
     "shell.execute_reply": "2024-03-12T21:28:28.406248Z"
    },
    "papermill": {
     "duration": 3.522179,
     "end_time": "2024-03-12T21:28:28.409798",
     "exception": false,
     "start_time": "2024-03-12T21:28:24.887619",
     "status": "completed"
    },
    "tags": []
   },
   "outputs": [
    {
     "name": "stdout",
     "output_type": "stream",
     "text": [
      "ROC-AUC score: 87.91%\n",
      "\n",
      "              precision    recall  f1-score   support\n",
      "\n",
      "      Pastry       0.35      0.17      0.23       380\n",
      "   Z_Scratch       0.59      0.57      0.58       295\n",
      "    K_Scatch       0.88      0.91      0.89       836\n",
      "      Stains       0.70      0.83      0.76       132\n",
      "   Dirtiness       0.40      0.16      0.23       131\n",
      "       Bumps       0.52      0.50      0.51      1199\n",
      "Other_Faults       0.49      0.58      0.53      1628\n",
      "\n",
      "    accuracy                           0.58      4601\n",
      "   macro avg       0.56      0.53      0.53      4601\n",
      "weighted avg       0.57      0.58      0.57      4601\n",
      "\n"
     ]
    }
   ],
   "source": [
    "clf, X_test, y_test = get_fitted_xgboost(train_data)\n",
    "score = roc_auc_score(y_test, get_predictions(clf, X_test), multi_class='ovr', average='macro')\n",
    "\n",
    "print('ROC-AUC score: %.2f' % (score*100) + '%\\n')\n",
    "print(classification_report(y_test, get_predictions(clf, X_test, False),target_names=target_features))"
   ]
  },
  {
   "cell_type": "code",
   "execution_count": 11,
   "id": "cea1cdb0",
   "metadata": {
    "execution": {
     "iopub.execute_input": "2024-03-12T21:28:28.423488Z",
     "iopub.status.busy": "2024-03-12T21:28:28.422462Z",
     "iopub.status.idle": "2024-03-12T21:28:28.856123Z",
     "shell.execute_reply": "2024-03-12T21:28:28.854966Z"
    },
    "papermill": {
     "duration": 0.443221,
     "end_time": "2024-03-12T21:28:28.858737",
     "exception": false,
     "start_time": "2024-03-12T21:28:28.415516",
     "status": "completed"
    },
    "tags": []
   },
   "outputs": [
    {
     "data": {
      "image/png": "[encoded data removed]",
      "text/plain": [
       "<Figure size 640x480 with 2 Axes>"
      ]
     },
     "metadata": {},
     "output_type": "display_data"
    }
   ],
   "source": [
    "cm = pd.DataFrame(confusion_matrix(y_test,get_predictions(clf, X_test, False)), \n",
    "                  index=target_features, columns=target_features)\n",
    "sns.heatmap(cm, annot=True, fmt='g', cmap='Blues')\n",
    "plt.xlabel('Predicted')\n",
    "plt.xticks(rotation=45)\n",
    "plt.ylabel('Actual')\n",
    "plt.show()"
   ]
  },
  {
   "cell_type": "code",
   "execution_count": 12,
   "id": "e3200ac1",
   "metadata": {
    "execution": {
     "iopub.execute_input": "2024-03-12T21:28:28.874452Z",
     "iopub.status.busy": "2024-03-12T21:28:28.873327Z",
     "iopub.status.idle": "2024-03-12T21:28:28.881625Z",
     "shell.execute_reply": "2024-03-12T21:28:28.880819Z"
    },
    "papermill": {
     "duration": 0.018244,
     "end_time": "2024-03-12T21:28:28.883630",
     "exception": false,
     "start_time": "2024-03-12T21:28:28.865386",
     "status": "completed"
    },
    "tags": []
   },
   "outputs": [],
   "source": [
    "def objective(trial: optuna.Trial) -> float:\n",
    "    params = dict(\n",
    "        tree_method='hist',\n",
    "        objective='multi:softmax',\n",
    "        eval_metric='roc_auc', \n",
    "        num_class=len(target_features), \n",
    "        iterations=100, \n",
    "        random_state=0,\n",
    "        \n",
    "        learning_rate= trial.suggest_float('learning_rate', 0.005, 0.05),\n",
    "        n_estimators= trial.suggest_int('n_estimators',250,1000),\n",
    "        reg_alpha=trial.suggest_float('reg_alpha', 1e-8, 10.0,log=True),\n",
    "        reg_lambda=trial.suggest_float('reg_lambda', 1e-8, 10.0,log=True),\n",
    "        max_depth=trial.suggest_int('max_depth', 3, 20),\n",
    "        colsample_bytree=trial.suggest_float('colsample_bytree', 0.3, 1.0),\n",
    "        subsample=trial.suggest_float('subsample', 0.5, 1.0),\n",
    "        min_child_weight=trial.suggest_int('min_child_weight', 1, 5)\n",
    "    )\n",
    "\n",
    "    clf, X_test, y_test = get_fitted_xgboost(params)\n",
    "    predictions = clf.predict(X_test)\n",
    "\n",
    "    return clf.score(X_test, y_test)"
   ]
  },
  {
   "cell_type": "code",
   "execution_count": 13,
   "id": "8b2d963d",
   "metadata": {
    "execution": {
     "iopub.execute_input": "2024-03-12T21:28:28.898835Z",
     "iopub.status.busy": "2024-03-12T21:28:28.898009Z",
     "iopub.status.idle": "2024-03-12T21:29:55.352510Z",
     "shell.execute_reply": "2024-03-12T21:29:55.351381Z"
    },
    "papermill": {
     "duration": 86.472887,
     "end_time": "2024-03-12T21:29:55.363083",
     "exception": false,
     "start_time": "2024-03-12T21:28:28.890196",
     "status": "completed"
    },
    "tags": []
   },
   "outputs": [
    {
     "name": "stdout",
     "output_type": "stream",
     "text": [
      "Trials completed: 30\n",
      "Best value:  0.5974788089545751\n",
      "Best params:  {'learning_rate': 0.008839489367746691, 'n_estimators': 799, 'reg_alpha': 0.00102039158464648, 'reg_lambda': 0.0004388017695395069, 'max_depth': 13, 'colsample_bytree': 0.6604207067365462, 'subsample': 0.8839440644642192, 'min_child_weight': 3}\n"
     ]
    }
   ],
   "source": [
    "study = optuna.create_study(study_name='defect-detection', direction='maximize')\n",
    "study.optimize(objective, n_trials=30, show_progress_bar=False, n_jobs=-1)\n",
    "\n",
    "best_study = study.best_trial\n",
    "\n",
    "print('Trials completed:', len(study.trials))\n",
    "print('Best value: ', best_study.value)\n",
    "print('Best params: ', best_study.params)"
   ]
  },
  {
   "cell_type": "code",
   "execution_count": 14,
   "id": "532e766e",
   "metadata": {
    "_kg_hide-input": true,
    "execution": {
     "iopub.execute_input": "2024-03-12T21:29:55.377840Z",
     "iopub.status.busy": "2024-03-12T21:29:55.377416Z",
     "iopub.status.idle": "2024-03-12T21:29:56.078097Z",
     "shell.execute_reply": "2024-03-12T21:29:56.076935Z"
    },
    "papermill": {
     "duration": 0.711064,
     "end_time": "2024-03-12T21:29:56.080575",
     "exception": false,
     "start_time": "2024-03-12T21:29:55.369511",
     "status": "completed"
    },
    "tags": []
   },
   "outputs": [
    {
     "name": "stdout",
     "output_type": "stream",
     "text": [
      "Parameter importances:\n",
      "{'learning_rate': 0.41370301900142115, 'n_estimators': 0.2130819808119865, 'max_depth': 0.1369135705274998, 'subsample': 0.10185085650772611, 'min_child_weight': 0.07666017019590242, 'colsample_bytree': 0.034351962479060645, 'reg_lambda': 0.01936675041973249, 'reg_alpha': 0.0040716900566706606}\n"
     ]
    }
   ],
   "source": [
    "print('Parameter importances:')\n",
    "print(optuna.importance.get_param_importances(study))"
   ]
  },
  {
   "cell_type": "code",
   "execution_count": 15,
   "id": "d26faf4c",
   "metadata": {
    "execution": {
     "iopub.execute_input": "2024-03-12T21:29:56.096862Z",
     "iopub.status.busy": "2024-03-12T21:29:56.095938Z",
     "iopub.status.idle": "2024-03-12T21:29:56.198133Z",
     "shell.execute_reply": "2024-03-12T21:29:56.196868Z"
    },
    "papermill": {
     "duration": 0.113087,
     "end_time": "2024-03-12T21:29:56.200653",
     "exception": false,
     "start_time": "2024-03-12T21:29:56.087566",
     "status": "completed"
    },
    "tags": []
   },
   "outputs": [
    {
     "data": {
      "text/html": [
       "<div>\n",
       "<style scoped>\n",
       "    .dataframe tbody tr th:only-of-type {\n",
       "        vertical-align: middle;\n",
       "    }\n",
       "\n",
       "    .dataframe tbody tr th {\n",
       "        vertical-align: top;\n",
       "    }\n",
       "\n",
       "    .dataframe thead th {\n",
       "        text-align: right;\n",
       "    }\n",
       "</style>\n",
       "<table border=\"1\" class=\"dataframe\">\n",
       "  <thead>\n",
       "    <tr style=\"text-align: right;\">\n",
       "      <th></th>\n",
       "      <th>Pastry</th>\n",
       "      <th>Z_Scratch</th>\n",
       "      <th>K_Scatch</th>\n",
       "      <th>Stains</th>\n",
       "      <th>Dirtiness</th>\n",
       "      <th>Bumps</th>\n",
       "      <th>Other_Faults</th>\n",
       "    </tr>\n",
       "    <tr>\n",
       "      <th>id</th>\n",
       "      <th></th>\n",
       "      <th></th>\n",
       "      <th></th>\n",
       "      <th></th>\n",
       "      <th></th>\n",
       "      <th></th>\n",
       "      <th></th>\n",
       "    </tr>\n",
       "  </thead>\n",
       "  <tbody>\n",
       "    <tr>\n",
       "      <th>10431</th>\n",
       "      <td>0.022556</td>\n",
       "      <td>0.000075</td>\n",
       "      <td>0.000067</td>\n",
       "      <td>0.000005</td>\n",
       "      <td>0.008476</td>\n",
       "      <td>0.805191</td>\n",
       "      <td>0.163629</td>\n",
       "    </tr>\n",
       "    <tr>\n",
       "      <th>10455</th>\n",
       "      <td>0.006590</td>\n",
       "      <td>0.000465</td>\n",
       "      <td>0.001011</td>\n",
       "      <td>0.000057</td>\n",
       "      <td>0.006249</td>\n",
       "      <td>0.296704</td>\n",
       "      <td>0.688924</td>\n",
       "    </tr>\n",
       "    <tr>\n",
       "      <th>16432</th>\n",
       "      <td>0.005334</td>\n",
       "      <td>0.325101</td>\n",
       "      <td>0.001355</td>\n",
       "      <td>0.000011</td>\n",
       "      <td>0.001660</td>\n",
       "      <td>0.330625</td>\n",
       "      <td>0.335913</td>\n",
       "    </tr>\n",
       "    <tr>\n",
       "      <th>6946</th>\n",
       "      <td>0.209052</td>\n",
       "      <td>0.010217</td>\n",
       "      <td>0.000179</td>\n",
       "      <td>0.000026</td>\n",
       "      <td>0.002353</td>\n",
       "      <td>0.289814</td>\n",
       "      <td>0.488359</td>\n",
       "    </tr>\n",
       "    <tr>\n",
       "      <th>16663</th>\n",
       "      <td>0.000460</td>\n",
       "      <td>0.000156</td>\n",
       "      <td>0.828380</td>\n",
       "      <td>0.000009</td>\n",
       "      <td>0.000046</td>\n",
       "      <td>0.000254</td>\n",
       "      <td>0.170695</td>\n",
       "    </tr>\n",
       "  </tbody>\n",
       "</table>\n",
       "</div>"
      ],
      "text/plain": [
       "         Pastry  Z_Scratch  K_Scatch    Stains  Dirtiness     Bumps  \\\n",
       "id                                                                    \n",
       "10431  0.022556   0.000075  0.000067  0.000005   0.008476  0.805191   \n",
       "10455  0.006590   0.000465  0.001011  0.000057   0.006249  0.296704   \n",
       "16432  0.005334   0.325101  0.001355  0.000011   0.001660  0.330625   \n",
       "6946   0.209052   0.010217  0.000179  0.000026   0.002353  0.289814   \n",
       "16663  0.000460   0.000156  0.828380  0.000009   0.000046  0.000254   \n",
       "\n",
       "       Other_Faults  \n",
       "id                   \n",
       "10431      0.163629  \n",
       "10455      0.688924  \n",
       "16432      0.335913  \n",
       "6946       0.488359  \n",
       "16663      0.170695  "
      ]
     },
     "execution_count": 15,
     "metadata": {},
     "output_type": "execute_result"
    }
   ],
   "source": [
    "predictions = get_predictions(clf, X_test)\n",
    "predictions.to_csv('submission.csv')\n",
    "predictions.head()"
   ]
  }
 ],
 "metadata": {
  "kaggle": {
   "accelerator": "none",
   "dataSources": [
    {
     "databundleVersionId": 7659021,
     "sourceId": 68699,
     "sourceType": "competition"
    }
   ],
   "dockerImageVersionId": 30664,
   "isGpuEnabled": false,
   "isInternetEnabled": true,
   "language": "python",
   "sourceType": "notebook"
  },
  "kernelspec": {
   "display_name": "Python 3",
   "language": "python",
   "name": "python3"
  },
  "language_info": {
   "codemirror_mode": {
    "name": "ipython",
    "version": 3
   },
   "file_extension": ".py",
   "mimetype": "text/x-python",
   "name": "python",
   "nbconvert_exporter": "python",
   "pygments_lexer": "ipython3",
   "version": "3.10.13"
  },
  "papermill": {
   "default_parameters": {},
   "duration": 100.203685,
   "end_time": "2024-03-12T21:29:57.031782",
   "environment_variables": {},
   "exception": null,
   "input_path": "__notebook__.ipynb",
   "output_path": "__notebook__.ipynb",
   "parameters": {},
   "start_time": "2024-03-12T21:28:16.828097",
   "version": "2.5.0"
  }
 },
 "nbformat": 4,
 "nbformat_minor": 5
}
