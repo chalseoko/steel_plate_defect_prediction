{
 "cells": [
  {
   "cell_type": "code",
   "execution_count": 1,
   "id": "27d064b4",
   "metadata": {
    "_cell_guid": "b1076dfc-b9ad-4769-8c92-a6c4dae69d19",
    "_uuid": "8f2839f25d086af736a60e9eeb907d3b93b6e0e5",
    "execution": {
     "iopub.execute_input": "2024-03-31T19:52:33.348838Z",
     "iopub.status.busy": "2024-03-31T19:52:33.348434Z",
     "iopub.status.idle": "2024-03-31T19:52:37.710096Z",
     "shell.execute_reply": "2024-03-31T19:52:37.709038Z"
    },
    "papermill": {
     "duration": 4.371975,
     "end_time": "2024-03-31T19:52:37.712780",
     "exception": false,
     "start_time": "2024-03-31T19:52:33.340805",
     "status": "completed"
    },
    "tags": []
   },
   "outputs": [],
   "source": [
    "import numpy as np\n",
    "import pandas as pd\n",
    "import warnings\n",
    "\n",
    "import seaborn as sns\n",
    "import matplotlib.pyplot as plt\n",
    "\n",
    "from sklearn.compose import make_column_transformer\n",
    "from sklearn.metrics import classification_report, confusion_matrix, roc_auc_score\n",
    "from sklearn.model_selection import train_test_split\n",
    "from sklearn.preprocessing import MinMaxScaler\n",
    "\n",
    "from xgboost import XGBClassifier\n",
    "\n",
    "import optuna\n",
    "\n",
    "from optuna.exceptions import ExperimentalWarning\n",
    "optuna.logging.set_verbosity(optuna.logging.WARNING)\n",
    "warnings.simplefilter(\"ignore\", category=ExperimentalWarning)"
   ]
  },
  {
   "cell_type": "code",
   "execution_count": 2,
   "id": "16fc3f55",
   "metadata": {
    "execution": {
     "iopub.execute_input": "2024-03-31T19:52:37.727557Z",
     "iopub.status.busy": "2024-03-31T19:52:37.726190Z",
     "iopub.status.idle": "2024-03-31T19:52:38.032738Z",
     "shell.execute_reply": "2024-03-31T19:52:38.031406Z"
    },
    "papermill": {
     "duration": 0.317119,
     "end_time": "2024-03-31T19:52:38.036137",
     "exception": false,
     "start_time": "2024-03-31T19:52:37.719018",
     "status": "completed"
    },
    "tags": []
   },
   "outputs": [
    {
     "name": "stdout",
     "output_type": "stream",
     "text": [
      "<class 'pandas.core.frame.DataFrame'>\n",
      "Index: 32033 entries, 0 to 32032\n",
      "Data columns (total 34 columns):\n",
      " #   Column                 Non-Null Count  Dtype  \n",
      "---  ------                 --------------  -----  \n",
      " 0   X_Minimum              32033 non-null  int64  \n",
      " 1   X_Maximum              32033 non-null  int64  \n",
      " 2   Y_Minimum              32033 non-null  int64  \n",
      " 3   Y_Maximum              32033 non-null  int64  \n",
      " 4   Pixels_Areas           32033 non-null  int64  \n",
      " 5   X_Perimeter            32033 non-null  int64  \n",
      " 6   Y_Perimeter            32033 non-null  int64  \n",
      " 7   Sum_of_Luminosity      32033 non-null  int64  \n",
      " 8   Minimum_of_Luminosity  32033 non-null  int64  \n",
      " 9   Maximum_of_Luminosity  32033 non-null  int64  \n",
      " 10  Length_of_Conveyer     32033 non-null  int64  \n",
      " 11  TypeOfSteel_A300       32033 non-null  int64  \n",
      " 12  TypeOfSteel_A400       32033 non-null  int64  \n",
      " 13  Steel_Plate_Thickness  32033 non-null  int64  \n",
      " 14  Edges_Index            32033 non-null  float64\n",
      " 15  Empty_Index            32033 non-null  float64\n",
      " 16  Square_Index           32033 non-null  float64\n",
      " 17  Outside_X_Index        32033 non-null  float64\n",
      " 18  Edges_X_Index          32033 non-null  float64\n",
      " 19  Edges_Y_Index          32033 non-null  float64\n",
      " 20  Outside_Global_Index   32033 non-null  float64\n",
      " 21  LogOfAreas             32033 non-null  float64\n",
      " 22  Log_X_Index            32033 non-null  float64\n",
      " 23  Log_Y_Index            32033 non-null  float64\n",
      " 24  Orientation_Index      32033 non-null  float64\n",
      " 25  Luminosity_Index       32033 non-null  float64\n",
      " 26  SigmoidOfAreas         32033 non-null  float64\n",
      " 27  Pastry                 19219 non-null  float64\n",
      " 28  Z_Scratch              19219 non-null  float64\n",
      " 29  K_Scatch               19219 non-null  float64\n",
      " 30  Stains                 19219 non-null  float64\n",
      " 31  Dirtiness              19219 non-null  float64\n",
      " 32  Bumps                  19219 non-null  float64\n",
      " 33  Other_Faults           19219 non-null  float64\n",
      "dtypes: float64(20), int64(14)\n",
      "memory usage: 8.6 MB\n"
     ]
    }
   ],
   "source": [
    "train_data = pd.read_csv('/kaggle/input/playground-series-s4e3/train.csv', index_col='id')\n",
    "test_data = pd.read_csv('/kaggle/input/playground-series-s4e3/test.csv', index_col='id')\n",
    "submission = pd.read_csv('/kaggle/input/playground-series-s4e3/sample_submission.csv', index_col='id')\n",
    "\n",
    "pd.concat([train_data, test_data]).info()"
   ]
  },
  {
   "cell_type": "markdown",
   "id": "094b0b0b",
   "metadata": {
    "papermill": {
     "duration": 0.005401,
     "end_time": "2024-03-31T19:52:38.047337",
     "exception": false,
     "start_time": "2024-03-31T19:52:38.041936",
     "status": "completed"
    },
    "tags": []
   },
   "source": [
    "* Combining the datasets, we can see there are no null values across both the training and testing data. \n",
    "* Target values are binary (0/1), and below you can see that many of these features are unbalanced.\n",
    "* For some of the target values, we can observe there are no faults for certain steel plates. Plates with multiple faults will be placed into the 'Other_Faults' category and those without faults will be removed from the dataset.\n",
    "* All features appear to be numerical."
   ]
  },
  {
   "cell_type": "code",
   "execution_count": 3,
   "id": "0d8c20dd",
   "metadata": {
    "execution": {
     "iopub.execute_input": "2024-03-31T19:52:38.061214Z",
     "iopub.status.busy": "2024-03-31T19:52:38.060431Z",
     "iopub.status.idle": "2024-03-31T19:52:38.386091Z",
     "shell.execute_reply": "2024-03-31T19:52:38.384981Z"
    },
    "papermill": {
     "duration": 0.335616,
     "end_time": "2024-03-31T19:52:38.388709",
     "exception": false,
     "start_time": "2024-03-31T19:52:38.053093",
     "status": "completed"
    },
    "tags": []
   },
   "outputs": [
    {
     "data": {
      "image/png": "[encoded data removed]",
      "text/plain": [
       "<Figure size 640x480 with 1 Axes>"
      ]
     },
     "metadata": {},
     "output_type": "display_data"
    }
   ],
   "source": [
    "target_features = ['Pastry', 'Z_Scratch', 'K_Scatch', 'Stains', 'Dirtiness', 'Bumps', 'Other_Faults']\n",
    "target_data = train_data[target_features]\n",
    "\n",
    "fault_counts = np.unique(target_data.sum(axis=1), return_counts=True)\n",
    "ax = sns.barplot(x=fault_counts[0], y=fault_counts[1])\n",
    "ax.bar_label(ax.containers[0], fontsize=10)\n",
    "plt.title(\"Faults per Steel Plate\")\n",
    "plt.show()"
   ]
  },
  {
   "cell_type": "code",
   "execution_count": 4,
   "id": "da8516ba",
   "metadata": {
    "execution": {
     "iopub.execute_input": "2024-03-31T19:52:38.404013Z",
     "iopub.status.busy": "2024-03-31T19:52:38.403627Z",
     "iopub.status.idle": "2024-03-31T19:52:38.854123Z",
     "shell.execute_reply": "2024-03-31T19:52:38.852850Z"
    },
    "papermill": {
     "duration": 0.462938,
     "end_time": "2024-03-31T19:52:38.858222",
     "exception": false,
     "start_time": "2024-03-31T19:52:38.395284",
     "status": "completed"
    },
    "tags": []
   },
   "outputs": [
    {
     "data": {
      "image/png": "[encoded data removed]",
      "text/plain": [
       "<Figure size 640x480 with 1 Axes>"
      ]
     },
     "metadata": {},
     "output_type": "display_data"
    }
   ],
   "source": [
    "target = target_data@(np.arange(target_data.shape[1])+1)\n",
    "target[target_data.sum(axis=1)==2] = 3\n",
    "\n",
    "ax = sns.countplot(x=target)\n",
    "ax.bar_label(ax.containers[0], fontsize=10)\n",
    "tick_labels = list(target_data.columns)\n",
    "tick_labels.insert(0, 'No_Faults')\n",
    "\n",
    "ax.set(xlabel='Feature', ylabel='Count', xticklabels=tick_labels)\n",
    "ax.tick_params(axis='x', rotation=45)\n",
    "plt.show()"
   ]
  },
  {
   "cell_type": "code",
   "execution_count": 5,
   "id": "49f4cda1",
   "metadata": {
    "execution": {
     "iopub.execute_input": "2024-03-31T19:52:38.877789Z",
     "iopub.status.busy": "2024-03-31T19:52:38.876703Z",
     "iopub.status.idle": "2024-03-31T19:52:38.897149Z",
     "shell.execute_reply": "2024-03-31T19:52:38.895985Z"
    },
    "papermill": {
     "duration": 0.033298,
     "end_time": "2024-03-31T19:52:38.899897",
     "exception": false,
     "start_time": "2024-03-31T19:52:38.866599",
     "status": "completed"
    },
    "tags": []
   },
   "outputs": [],
   "source": [
    "train_data.drop(np.where(target_data.sum(axis=1) == 0)[0], inplace=True)"
   ]
  },
  {
   "cell_type": "code",
   "execution_count": 6,
   "id": "e7037f94",
   "metadata": {
    "execution": {
     "iopub.execute_input": "2024-03-31T19:52:38.915116Z",
     "iopub.status.busy": "2024-03-31T19:52:38.914714Z",
     "iopub.status.idle": "2024-03-31T19:52:38.932844Z",
     "shell.execute_reply": "2024-03-31T19:52:38.931612Z"
    },
    "papermill": {
     "duration": 0.028786,
     "end_time": "2024-03-31T19:52:38.935491",
     "exception": false,
     "start_time": "2024-03-31T19:52:38.906705",
     "status": "completed"
    },
    "tags": []
   },
   "outputs": [
    {
     "name": "stdout",
     "output_type": "stream",
     "text": [
      "Train size:  (18401, 34)\n",
      "Test size:  (12814, 27)\n",
      "\n",
      "All Features: \n",
      " ['X_Minimum' 'X_Maximum' 'Y_Minimum' 'Y_Maximum' 'Pixels_Areas'\n",
      " 'X_Perimeter' 'Y_Perimeter' 'Sum_of_Luminosity' 'Minimum_of_Luminosity'\n",
      " 'Maximum_of_Luminosity' 'Length_of_Conveyer' 'TypeOfSteel_A300'\n",
      " 'TypeOfSteel_A400' 'Steel_Plate_Thickness' 'Edges_Index' 'Empty_Index'\n",
      " 'Square_Index' 'Outside_X_Index' 'Edges_X_Index' 'Edges_Y_Index'\n",
      " 'Outside_Global_Index' 'LogOfAreas' 'Log_X_Index' 'Log_Y_Index'\n",
      " 'Orientation_Index' 'Luminosity_Index' 'SigmoidOfAreas' 'Pastry'\n",
      " 'Z_Scratch' 'K_Scatch' 'Stains' 'Dirtiness' 'Bumps' 'Other_Faults']\n"
     ]
    }
   ],
   "source": [
    "X = train_data.drop(columns=target_features)\n",
    "y = train_data[target_features]\n",
    "\n",
    "X_train, X_test, y_train, y_test = train_test_split(X, y, test_size=0.25, random_state=0)\n",
    "\n",
    "print('Train size: ', train_data.shape)\n",
    "print('Test size: ', test_data.shape)\n",
    "\n",
    "print('\\nAll Features: \\n', train_data.columns.values)"
   ]
  },
  {
   "cell_type": "code",
   "execution_count": 7,
   "id": "3eb80bfb",
   "metadata": {
    "execution": {
     "iopub.execute_input": "2024-03-31T19:52:38.951690Z",
     "iopub.status.busy": "2024-03-31T19:52:38.951250Z",
     "iopub.status.idle": "2024-03-31T19:52:38.962816Z",
     "shell.execute_reply": "2024-03-31T19:52:38.961563Z"
    },
    "papermill": {
     "duration": 0.022394,
     "end_time": "2024-03-31T19:52:38.965299",
     "exception": false,
     "start_time": "2024-03-31T19:52:38.942905",
     "status": "completed"
    },
    "tags": []
   },
   "outputs": [],
   "source": [
    "def fit_transform_data(use_train_data=True):\n",
    "    data, X, y = train_data, None, None\n",
    "    non_scaled_cols = ['TypeOfSteel_A300', 'TypeOfSteel_A400','LogOfAreas','Log_X_Index',\n",
    "                       'Log_Y_Index','Orientation_Index','Luminosity_Index','SigmoidOfAreas'] #+ \\\n",
    "#                       ['X_Range', 'Y_Range', 'Range_of_Luminosity', 'Total_Perimeter', 'Area_Perimeter_Ratio']\n",
    "\n",
    "    if use_train_data:\n",
    "        non_scaled_cols += target_features\n",
    "    else:\n",
    "        data = test_data\n",
    "\n",
    "    scaled_cols = train_data.columns.difference(non_scaled_cols)\n",
    "    transformer = make_column_transformer(\n",
    "        (MinMaxScaler(), scaled_cols), remainder='passthrough', sparse_threshold=0)\n",
    "    transformed_data = transformer.fit_transform(data)\n",
    "    transformed_data = pd.DataFrame(transformed_data, columns=data.columns.values, index=data.index)\n",
    "    \n",
    "    if use_train_data: \n",
    "        X = transformed_data.drop(columns=target_features)\n",
    "        y = transformed_data[target_features].idxmax(1).map({'Pastry':0, 'Z_Scratch':1,'K_Scatch':2,'Stains':3,\n",
    "                                                 'Dirtiness':4,'Bumps':5,'Other_Faults':6})\n",
    "        return X,y\n",
    "    else: \n",
    "        return transformed_data, None"
   ]
  },
  {
   "cell_type": "code",
   "execution_count": 8,
   "id": "e9f7a1a6",
   "metadata": {
    "execution": {
     "iopub.execute_input": "2024-03-31T19:52:38.981544Z",
     "iopub.status.busy": "2024-03-31T19:52:38.981162Z",
     "iopub.status.idle": "2024-03-31T19:52:38.990639Z",
     "shell.execute_reply": "2024-03-31T19:52:38.989260Z"
    },
    "papermill": {
     "duration": 0.02099,
     "end_time": "2024-03-31T19:52:38.993235",
     "exception": false,
     "start_time": "2024-03-31T19:52:38.972245",
     "status": "completed"
    },
    "tags": []
   },
   "outputs": [],
   "source": [
    "def get_fitted_xgboost(data, params = {}):\n",
    "    X, y = fit_transform_data()\n",
    "    X_train, X_test, y_train, y_test = train_test_split(X, y, test_size=0.25)\n",
    "    \n",
    "    clf = XGBClassifier(**params)\n",
    "    clf.fit(X_train, y_train)\n",
    "    \n",
    "    return clf, X_test, y_test\n",
    "\n",
    "def get_predictions(clf, X_test, is_proba=True):\n",
    "    if is_proba:\n",
    "        predictions = clf.predict_proba(X_test)\n",
    "        return pd.DataFrame(predictions, columns=target_features, index=X_test.index)\n",
    "    else:\n",
    "        return clf.predict(X_test)"
   ]
  },
  {
   "cell_type": "code",
   "execution_count": 9,
   "id": "45b56e68",
   "metadata": {
    "execution": {
     "iopub.execute_input": "2024-03-31T19:52:39.008853Z",
     "iopub.status.busy": "2024-03-31T19:52:39.008432Z",
     "iopub.status.idle": "2024-03-31T19:52:39.017958Z",
     "shell.execute_reply": "2024-03-31T19:52:39.016732Z"
    },
    "papermill": {
     "duration": 0.020087,
     "end_time": "2024-03-31T19:52:39.020331",
     "exception": false,
     "start_time": "2024-03-31T19:52:39.000244",
     "status": "completed"
    },
    "tags": []
   },
   "outputs": [],
   "source": [
    "def objective(trial: optuna.Trial) -> float:\n",
    "    params = dict(\n",
    "        tree_method='hist',\n",
    "        objective='multi:softprob',\n",
    "        eval_metric='logloss', \n",
    "        booster='gbtree',\n",
    "        num_class=len(target_features), \n",
    "        iterations=250, \n",
    "        random_state=0,\n",
    "        \n",
    "        learning_rate= trial.suggest_float('learning_rate', 0.01, 0.05),\n",
    "        n_estimators= trial.suggest_int('n_estimators',250,1000),\n",
    "        reg_alpha=trial.suggest_float('reg_alpha', 1e-8, 1.0,log=True),\n",
    "        reg_lambda=trial.suggest_float('reg_lambda', 1e-8, 1.0,log=True),\n",
    "        max_depth=trial.suggest_int('max_depth', 3, 12),\n",
    "        colsample_bytree=trial.suggest_float('colsample_bytree', 0.3, 1.0),\n",
    "        subsample=trial.suggest_float('subsample', 0.5, 1.0),\n",
    "        min_child_weight=trial.suggest_int('min_child_weight', 1, 10)\n",
    "    )\n",
    "\n",
    "    clf, X_test, y_test = get_fitted_xgboost(params)\n",
    "    return roc_auc_score(y_test, get_predictions(clf, X_test), multi_class='ovr', average='macro')"
   ]
  },
  {
   "cell_type": "code",
   "execution_count": 10,
   "id": "6ea1eca0",
   "metadata": {
    "execution": {
     "iopub.execute_input": "2024-03-31T19:52:39.035838Z",
     "iopub.status.busy": "2024-03-31T19:52:39.035420Z",
     "iopub.status.idle": "2024-03-31T19:52:42.108424Z",
     "shell.execute_reply": "2024-03-31T19:52:42.107088Z"
    },
    "papermill": {
     "duration": 3.084027,
     "end_time": "2024-03-31T19:52:42.111188",
     "exception": false,
     "start_time": "2024-03-31T19:52:39.027161",
     "status": "completed"
    },
    "tags": []
   },
   "outputs": [
    {
     "name": "stdout",
     "output_type": "stream",
     "text": [
      "ROC-AUC score: 88.13%\n",
      "\n",
      "              precision    recall  f1-score   support\n",
      "\n",
      "      Pastry       0.40      0.19      0.26       369\n",
      "   Z_Scratch       0.59      0.59      0.59       289\n",
      "    K_Scatch       0.90      0.92      0.91       857\n",
      "      Stains       0.77      0.78      0.77       144\n",
      "   Dirtiness       0.40      0.15      0.22       112\n",
      "       Bumps       0.52      0.53      0.53      1189\n",
      "Other_Faults       0.51      0.58      0.55      1641\n",
      "\n",
      "    accuracy                           0.60      4601\n",
      "   macro avg       0.58      0.53      0.55      4601\n",
      "weighted avg       0.59      0.60      0.59      4601\n",
      "\n"
     ]
    }
   ],
   "source": [
    "clf, X_test, y_test = get_fitted_xgboost(train_data)\n",
    "score = roc_auc_score(y_test, get_predictions(clf, X_test), multi_class='ovr', average='macro')\n",
    "\n",
    "print('ROC-AUC score: %.2f' % (score*100) + '%\\n')\n",
    "print(classification_report(y_test, get_predictions(clf, X_test, False),target_names=target_features))"
   ]
  },
  {
   "cell_type": "code",
   "execution_count": 11,
   "id": "3789d03c",
   "metadata": {
    "execution": {
     "iopub.execute_input": "2024-03-31T19:52:42.127918Z",
     "iopub.status.busy": "2024-03-31T19:52:42.126965Z",
     "iopub.status.idle": "2024-03-31T19:52:42.647005Z",
     "shell.execute_reply": "2024-03-31T19:52:42.645623Z"
    },
    "papermill": {
     "duration": 0.531534,
     "end_time": "2024-03-31T19:52:42.649902",
     "exception": false,
     "start_time": "2024-03-31T19:52:42.118368",
     "status": "completed"
    },
    "tags": []
   },
   "outputs": [
    {
     "data": {
      "image/png": "[encoded data removed]",
      "text/plain": [
       "<Figure size 640x480 with 2 Axes>"
      ]
     },
     "metadata": {},
     "output_type": "display_data"
    }
   ],
   "source": [
    "cm = pd.DataFrame(confusion_matrix(y_test,get_predictions(clf, X_test, False)), \n",
    "                  index=target_features, columns=target_features)\n",
    "sns.heatmap(cm, annot=True, fmt='g', cmap='Blues')\n",
    "plt.xlabel('Predicted')\n",
    "plt.xticks(rotation=45)\n",
    "plt.ylabel('Actual')\n",
    "plt.show()"
   ]
  },
  {
   "cell_type": "code",
   "execution_count": 12,
   "id": "84f50e32",
   "metadata": {
    "execution": {
     "iopub.execute_input": "2024-03-31T19:52:42.667907Z",
     "iopub.status.busy": "2024-03-31T19:52:42.667466Z",
     "iopub.status.idle": "2024-03-31T19:54:05.961948Z",
     "shell.execute_reply": "2024-03-31T19:54:05.960594Z"
    },
    "papermill": {
     "duration": 83.306425,
     "end_time": "2024-03-31T19:54:05.964587",
     "exception": false,
     "start_time": "2024-03-31T19:52:42.658162",
     "status": "completed"
    },
    "tags": []
   },
   "outputs": [
    {
     "data": {
      "application/vnd.jupyter.widget-view+json": {
       "model_id": "97a131e4490e4e22ab541187f9317a96",
       "version_major": 2,
       "version_minor": 0
      },
      "text/plain": [
       "  0%|          | 0/30 [00:00<?, ?it/s]"
      ]
     },
     "metadata": {},
     "output_type": "display_data"
    },
    {
     "name": "stdout",
     "output_type": "stream",
     "text": [
      "Trials completed: 30\n",
      "Best value:  0.8858700465909911\n",
      "Best params:  {'learning_rate': 0.012908679641816212, 'n_estimators': 621, 'reg_alpha': 0.05336078100147572, 'reg_lambda': 0.03517044518852905, 'max_depth': 11, 'colsample_bytree': 0.6074649566851691, 'subsample': 0.8174514875640926, 'min_child_weight': 2}\n"
     ]
    }
   ],
   "source": [
    "sampler = optuna.samplers.TPESampler(n_startup_trials=30, multivariate=True, seed=0)  \n",
    "\n",
    "study = optuna.create_study(study_name='defect-detection', direction='maximize', sampler=sampler)\n",
    "study.optimize(objective, n_trials=30, show_progress_bar=True, n_jobs=-1)\n",
    "\n",
    "best_study = study.best_trial\n",
    "\n",
    "print('Trials completed:', len(study.trials))\n",
    "print('Best value: ', best_study.value)\n",
    "print('Best params: ', best_study.params)"
   ]
  },
  {
   "cell_type": "code",
   "execution_count": 13,
   "id": "2218c0bd",
   "metadata": {
    "execution": {
     "iopub.execute_input": "2024-03-31T19:54:05.984256Z",
     "iopub.status.busy": "2024-03-31T19:54:05.983445Z",
     "iopub.status.idle": "2024-03-31T19:54:42.058027Z",
     "shell.execute_reply": "2024-03-31T19:54:42.056794Z"
    },
    "papermill": {
     "duration": 36.095475,
     "end_time": "2024-03-31T19:54:42.069385",
     "exception": false,
     "start_time": "2024-03-31T19:54:05.973910",
     "status": "completed"
    },
    "tags": []
   },
   "outputs": [
    {
     "data": {
      "text/html": [
       "<div>\n",
       "<style scoped>\n",
       "    .dataframe tbody tr th:only-of-type {\n",
       "        vertical-align: middle;\n",
       "    }\n",
       "\n",
       "    .dataframe tbody tr th {\n",
       "        vertical-align: top;\n",
       "    }\n",
       "\n",
       "    .dataframe thead th {\n",
       "        text-align: right;\n",
       "    }\n",
       "</style>\n",
       "<table border=\"1\" class=\"dataframe\">\n",
       "  <thead>\n",
       "    <tr style=\"text-align: right;\">\n",
       "      <th></th>\n",
       "      <th>Pastry</th>\n",
       "      <th>Z_Scratch</th>\n",
       "      <th>K_Scatch</th>\n",
       "      <th>Stains</th>\n",
       "      <th>Dirtiness</th>\n",
       "      <th>Bumps</th>\n",
       "      <th>Other_Faults</th>\n",
       "    </tr>\n",
       "    <tr>\n",
       "      <th>id</th>\n",
       "      <th></th>\n",
       "      <th></th>\n",
       "      <th></th>\n",
       "      <th></th>\n",
       "      <th></th>\n",
       "      <th></th>\n",
       "      <th></th>\n",
       "    </tr>\n",
       "  </thead>\n",
       "  <tbody>\n",
       "    <tr>\n",
       "      <th>17008</th>\n",
       "      <td>0.027652</td>\n",
       "      <td>0.006074</td>\n",
       "      <td>0.001917</td>\n",
       "      <td>0.002087</td>\n",
       "      <td>0.002379</td>\n",
       "      <td>0.551793</td>\n",
       "      <td>0.408097</td>\n",
       "    </tr>\n",
       "    <tr>\n",
       "      <th>8296</th>\n",
       "      <td>0.369169</td>\n",
       "      <td>0.005016</td>\n",
       "      <td>0.005128</td>\n",
       "      <td>0.002858</td>\n",
       "      <td>0.010071</td>\n",
       "      <td>0.300313</td>\n",
       "      <td>0.307444</td>\n",
       "    </tr>\n",
       "    <tr>\n",
       "      <th>9606</th>\n",
       "      <td>0.003173</td>\n",
       "      <td>0.008753</td>\n",
       "      <td>0.040671</td>\n",
       "      <td>0.008175</td>\n",
       "      <td>0.005914</td>\n",
       "      <td>0.199069</td>\n",
       "      <td>0.734245</td>\n",
       "    </tr>\n",
       "    <tr>\n",
       "      <th>7704</th>\n",
       "      <td>0.346594</td>\n",
       "      <td>0.006658</td>\n",
       "      <td>0.038259</td>\n",
       "      <td>0.002764</td>\n",
       "      <td>0.006010</td>\n",
       "      <td>0.101866</td>\n",
       "      <td>0.497850</td>\n",
       "    </tr>\n",
       "    <tr>\n",
       "      <th>10465</th>\n",
       "      <td>0.070653</td>\n",
       "      <td>0.011644</td>\n",
       "      <td>0.017229</td>\n",
       "      <td>0.002768</td>\n",
       "      <td>0.084533</td>\n",
       "      <td>0.302189</td>\n",
       "      <td>0.510984</td>\n",
       "    </tr>\n",
       "  </tbody>\n",
       "</table>\n",
       "</div>"
      ],
      "text/plain": [
       "         Pastry  Z_Scratch  K_Scatch    Stains  Dirtiness     Bumps  \\\n",
       "id                                                                    \n",
       "17008  0.027652   0.006074  0.001917  0.002087   0.002379  0.551793   \n",
       "8296   0.369169   0.005016  0.005128  0.002858   0.010071  0.300313   \n",
       "9606   0.003173   0.008753  0.040671  0.008175   0.005914  0.199069   \n",
       "7704   0.346594   0.006658  0.038259  0.002764   0.006010  0.101866   \n",
       "10465  0.070653   0.011644  0.017229  0.002768   0.084533  0.302189   \n",
       "\n",
       "       Other_Faults  \n",
       "id                   \n",
       "17008      0.408097  \n",
       "8296       0.307444  \n",
       "9606       0.734245  \n",
       "7704       0.497850  \n",
       "10465      0.510984  "
      ]
     },
     "execution_count": 13,
     "metadata": {},
     "output_type": "execute_result"
    }
   ],
   "source": [
    "clf, X_test, y_test = get_fitted_xgboost(test_data, best_study.params)\n",
    "predictions = get_predictions(clf, X_test)\n",
    "predictions.to_csv('submission.csv')\n",
    "predictions.head()"
   ]
  }
 ],
 "metadata": {
  "kaggle": {
   "accelerator": "none",
   "dataSources": [
    {
     "databundleVersionId": 7659021,
     "sourceId": 68699,
     "sourceType": "competition"
    }
   ],
   "dockerImageVersionId": 30664,
   "isGpuEnabled": false,
   "isInternetEnabled": true,
   "language": "python",
   "sourceType": "notebook"
  },
  "kernelspec": {
   "display_name": "Python 3",
   "language": "python",
   "name": "python3"
  },
  "language_info": {
   "codemirror_mode": {
    "name": "ipython",
    "version": 3
   },
   "file_extension": ".py",
   "mimetype": "text/x-python",
   "name": "python",
   "nbconvert_exporter": "python",
   "pygments_lexer": "ipython3",
   "version": "3.10.13"
  },
  "papermill": {
   "default_parameters": {},
   "duration": 132.712622,
   "end_time": "2024-03-31T19:54:42.901035",
   "environment_variables": {},
   "exception": null,
   "input_path": "__notebook__.ipynb",
   "output_path": "__notebook__.ipynb",
   "parameters": {},
   "start_time": "2024-03-31T19:52:30.188413",
   "version": "2.5.0"
  },
  "widgets": {
   "application/vnd.jupyter.widget-state+json": {
    "state": {
     "03e4f6ecfac5440680abb51990a99237": {
      "model_module": "@jupyter-widgets/base",
      "model_module_version": "1.2.0",
      "model_name": "LayoutModel",
      "state": {
       "_model_module": "@jupyter-widgets/base",
       "_model_module_version": "1.2.0",
       "_model_name": "LayoutModel",
       "_view_count": null,
       "_view_module": "@jupyter-widgets/base",
       "_view_module_version": "1.2.0",
       "_view_name": "LayoutView",
       "align_content": null,
       "align_items": null,
       "align_self": null,
       "border": null,
       "bottom": null,
       "display": null,
       "flex": null,
       "flex_flow": null,
       "grid_area": null,
       "grid_auto_columns": null,
       "grid_auto_flow": null,
       "grid_auto_rows": null,
       "grid_column": null,
       "grid_gap": null,
       "grid_row": null,
       "grid_template_areas": null,
       "grid_template_columns": null,
       "grid_template_rows": null,
       "height": null,
       "justify_content": null,
       "justify_items": null,
       "left": null,
       "margin": null,
       "max_height": null,
       "max_width": null,
       "min_height": null,
       "min_width": null,
       "object_fit": null,
       "object_position": null,
       "order": null,
       "overflow": null,
       "overflow_x": null,
       "overflow_y": null,
       "padding": null,
       "right": null,
       "top": null,
       "visibility": null,
       "width": null
      }
     },
     "03eb868b16994c939f106d00bcac74ec": {
      "model_module": "@jupyter-widgets/base",
      "model_module_version": "1.2.0",
      "model_name": "LayoutModel",
      "state": {
       "_model_module": "@jupyter-widgets/base",
       "_model_module_version": "1.2.0",
       "_model_name": "LayoutModel",
       "_view_count": null,
       "_view_module": "@jupyter-widgets/base",
       "_view_module_version": "1.2.0",
       "_view_name": "LayoutView",
       "align_content": null,
       "align_items": null,
       "align_self": null,
       "border": null,
       "bottom": null,
       "display": null,
       "flex": null,
       "flex_flow": null,
       "grid_area": null,
       "grid_auto_columns": null,
       "grid_auto_flow": null,
       "grid_auto_rows": null,
       "grid_column": null,
       "grid_gap": null,
       "grid_row": null,
       "grid_template_areas": null,
       "grid_template_columns": null,
       "grid_template_rows": null,
       "height": null,
       "justify_content": null,
       "justify_items": null,
       "left": null,
       "margin": null,
       "max_height": null,
       "max_width": null,
       "min_height": null,
       "min_width": null,
       "object_fit": null,
       "object_position": null,
       "order": null,
       "overflow": null,
       "overflow_x": null,
       "overflow_y": null,
       "padding": null,
       "right": null,
       "top": null,
       "visibility": null,
       "width": null
      }
     },
     "342335e4b5ca4b4b9d98169d82feb51b": {
      "model_module": "@jupyter-widgets/controls",
      "model_module_version": "1.5.0",
      "model_name": "FloatProgressModel",
      "state": {
       "_dom_classes": [],
       "_model_module": "@jupyter-widgets/controls",
       "_model_module_version": "1.5.0",
       "_model_name": "FloatProgressModel",
       "_view_count": null,
       "_view_module": "@jupyter-widgets/controls",
       "_view_module_version": "1.5.0",
       "_view_name": "ProgressView",
       "bar_style": "success",
       "description": "",
       "description_tooltip": null,
       "layout": "IPY_MODEL_f53f8bece4274c1c949e7fa658ab950b",
       "max": 30.0,
       "min": 0.0,
       "orientation": "horizontal",
       "style": "IPY_MODEL_6dcdff94d7944065af8909d8aa5b4263",
       "value": 30.0
      }
     },
     "505844b7d0ff47f4be9dc1bb9ad08db4": {
      "model_module": "@jupyter-widgets/controls",
      "model_module_version": "1.5.0",
      "model_name": "DescriptionStyleModel",
      "state": {
       "_model_module": "@jupyter-widgets/controls",
       "_model_module_version": "1.5.0",
       "_model_name": "DescriptionStyleModel",
       "_view_count": null,
       "_view_module": "@jupyter-widgets/base",
       "_view_module_version": "1.2.0",
       "_view_name": "StyleView",
       "description_width": ""
      }
     },
     "5f317a2fc8e042d3bb37cd393efdfebe": {
      "model_module": "@jupyter-widgets/base",
      "model_module_version": "1.2.0",
      "model_name": "LayoutModel",
      "state": {
       "_model_module": "@jupyter-widgets/base",
       "_model_module_version": "1.2.0",
       "_model_name": "LayoutModel",
       "_view_count": null,
       "_view_module": "@jupyter-widgets/base",
       "_view_module_version": "1.2.0",
       "_view_name": "LayoutView",
       "align_content": null,
       "align_items": null,
       "align_self": null,
       "border": null,
       "bottom": null,
       "display": null,
       "flex": null,
       "flex_flow": null,
       "grid_area": null,
       "grid_auto_columns": null,
       "grid_auto_flow": null,
       "grid_auto_rows": null,
       "grid_column": null,
       "grid_gap": null,
       "grid_row": null,
       "grid_template_areas": null,
       "grid_template_columns": null,
       "grid_template_rows": null,
       "height": null,
       "justify_content": null,
       "justify_items": null,
       "left": null,
       "margin": null,
       "max_height": null,
       "max_width": null,
       "min_height": null,
       "min_width": null,
       "object_fit": null,
       "object_position": null,
       "order": null,
       "overflow": null,
       "overflow_x": null,
       "overflow_y": null,
       "padding": null,
       "right": null,
       "top": null,
       "visibility": null,
       "width": null
      }
     },
     "69b8335ff8ca44d5bd022810fa49daea": {
      "model_module": "@jupyter-widgets/controls",
      "model_module_version": "1.5.0",
      "model_name": "HTMLModel",
      "state": {
       "_dom_classes": [],
       "_model_module": "@jupyter-widgets/controls",
       "_model_module_version": "1.5.0",
       "_model_name": "HTMLModel",
       "_view_count": null,
       "_view_module": "@jupyter-widgets/controls",
       "_view_module_version": "1.5.0",
       "_view_name": "HTMLView",
       "description": "",
       "description_tooltip": null,
       "layout": "IPY_MODEL_03eb868b16994c939f106d00bcac74ec",
       "placeholder": "​",
       "style": "IPY_MODEL_505844b7d0ff47f4be9dc1bb9ad08db4",
       "value": " 30/30 [01:23&lt;00:00,  3.31s/it]"
      }
     },
     "6dcdff94d7944065af8909d8aa5b4263": {
      "model_module": "@jupyter-widgets/controls",
      "model_module_version": "1.5.0",
      "model_name": "ProgressStyleModel",
      "state": {
       "_model_module": "@jupyter-widgets/controls",
       "_model_module_version": "1.5.0",
       "_model_name": "ProgressStyleModel",
       "_view_count": null,
       "_view_module": "@jupyter-widgets/base",
       "_view_module_version": "1.2.0",
       "_view_name": "StyleView",
       "bar_color": null,
       "description_width": ""
      }
     },
     "8e66e0e354c14820850634de7025493e": {
      "model_module": "@jupyter-widgets/controls",
      "model_module_version": "1.5.0",
      "model_name": "DescriptionStyleModel",
      "state": {
       "_model_module": "@jupyter-widgets/controls",
       "_model_module_version": "1.5.0",
       "_model_name": "DescriptionStyleModel",
       "_view_count": null,
       "_view_module": "@jupyter-widgets/base",
       "_view_module_version": "1.2.0",
       "_view_name": "StyleView",
       "description_width": ""
      }
     },
     "97a131e4490e4e22ab541187f9317a96": {
      "model_module": "@jupyter-widgets/controls",
      "model_module_version": "1.5.0",
      "model_name": "HBoxModel",
      "state": {
       "_dom_classes": [],
       "_model_module": "@jupyter-widgets/controls",
       "_model_module_version": "1.5.0",
       "_model_name": "HBoxModel",
       "_view_count": null,
       "_view_module": "@jupyter-widgets/controls",
       "_view_module_version": "1.5.0",
       "_view_name": "HBoxView",
       "box_style": "",
       "children": [
        "IPY_MODEL_cdbd4bb5716e4914a15cde85a6e3ca3b",
        "IPY_MODEL_342335e4b5ca4b4b9d98169d82feb51b",
        "IPY_MODEL_69b8335ff8ca44d5bd022810fa49daea"
       ],
       "layout": "IPY_MODEL_5f317a2fc8e042d3bb37cd393efdfebe"
      }
     },
     "cdbd4bb5716e4914a15cde85a6e3ca3b": {
      "model_module": "@jupyter-widgets/controls",
      "model_module_version": "1.5.0",
      "model_name": "HTMLModel",
      "state": {
       "_dom_classes": [],
       "_model_module": "@jupyter-widgets/controls",
       "_model_module_version": "1.5.0",
       "_model_name": "HTMLModel",
       "_view_count": null,
       "_view_module": "@jupyter-widgets/controls",
       "_view_module_version": "1.5.0",
       "_view_name": "HTMLView",
       "description": "",
       "description_tooltip": null,
       "layout": "IPY_MODEL_03e4f6ecfac5440680abb51990a99237",
       "placeholder": "​",
       "style": "IPY_MODEL_8e66e0e354c14820850634de7025493e",
       "value": "Best trial: 8. Best value: 0.88587: 100%"
      }
     },
     "f53f8bece4274c1c949e7fa658ab950b": {
      "model_module": "@jupyter-widgets/base",
      "model_module_version": "1.2.0",
      "model_name": "LayoutModel",
      "state": {
       "_model_module": "@jupyter-widgets/base",
       "_model_module_version": "1.2.0",
       "_model_name": "LayoutModel",
       "_view_count": null,
       "_view_module": "@jupyter-widgets/base",
       "_view_module_version": "1.2.0",
       "_view_name": "LayoutView",
       "align_content": null,
       "align_items": null,
       "align_self": null,
       "border": null,
       "bottom": null,
       "display": null,
       "flex": null,
       "flex_flow": null,
       "grid_area": null,
       "grid_auto_columns": null,
       "grid_auto_flow": null,
       "grid_auto_rows": null,
       "grid_column": null,
       "grid_gap": null,
       "grid_row": null,
       "grid_template_areas": null,
       "grid_template_columns": null,
       "grid_template_rows": null,
       "height": null,
       "justify_content": null,
       "justify_items": null,
       "left": null,
       "margin": null,
       "max_height": null,
       "max_width": null,
       "min_height": null,
       "min_width": null,
       "object_fit": null,
       "object_position": null,
       "order": null,
       "overflow": null,
       "overflow_x": null,
       "overflow_y": null,
       "padding": null,
       "right": null,
       "top": null,
       "visibility": null,
       "width": null
      }
     }
    },
    "version_major": 2,
    "version_minor": 0
   }
  }
 },
 "nbformat": 4,
 "nbformat_minor": 5
}
